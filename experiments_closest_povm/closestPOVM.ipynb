{
 "cells": [
  {
   "cell_type": "code",
   "execution_count": null,
   "metadata": {},
   "outputs": [],
   "source": [
    "import numpy as np\n",
    "import scipy\n",
    "import time\n",
    "import projections_POVM \n",
    "import timeit"
   ]
  },
  {
   "cell_type": "markdown",
   "metadata": {},
   "source": [
    "## Data\n"
   ]
  },
  {
   "cell_type": "code",
   "execution_count": null,
   "metadata": {},
   "outputs": [],
   "source": [
    "import pickle\n",
    "\n",
    "# Load dictionary from file\n",
    "with open('dataExactPOVM_p1e1.pkl', 'rb') as pickle_file:\n",
    "    data_sdp = pickle.load(pickle_file)"
   ]
  },
  {
   "cell_type": "code",
   "execution_count": null,
   "metadata": {},
   "outputs": [],
   "source": [
    "def generate_samples(data_sdp, qubits, iters, tol, reps, data):\n",
    "    \"\"\"\n",
    "    Generate samples for quantum operations based on provided data and parameters.\n",
    "\n",
    "    Args:\n",
    "    - data_sdp (dict): Dictionary containing SDP data.\n",
    "    - qubits (int): Number of qubits for the quantum operation.\n",
    "    - iters (int): Number of iterations for iterative algorithms.\n",
    "    - tol (float): Tolerance level for convergence criteria.\n",
    "    - reps (int): Number of repetitions for sampling.\n",
    "    - data (dict): Dictionary to store generated data.\n",
    "\n",
    "    Returns:\n",
    "    - data (dict): Dictionary containing generated data.\n",
    "\n",
    "    This function iterates over the specified number of repetitions and performs quantum operations\n",
    "    based on the provided data and parameters. It calculates distances and times for each operation\n",
    "    compared to exact values and stores them in the data dictionary.\n",
    "    \"\"\"\n",
    "    for k in range(0, reps):\n",
    "        povmInput = np.array(data_sdp[f\"data_{qubits}qubits\"]['povmInput'][k])\n",
    "        povmExact = np.array(data_sdp[f\"data_{qubits}qubits\"]['povmOutSDP'][k])\n",
    "        machine = projections_POVM.closestPOVM(qubits, iters)\n",
    "        timeTSE, povmTSE = machine.two_step_estimation(povmInput, Id = False)\n",
    "        timeCBA, povmCBA = machine.cholesky_based_approximation(povmInput, pos = False)\n",
    "        timeDykstraCBA, povmDykstraCBA, itersDykstraCBA = machine.dykstra_cholesky_based_approximation(povmInput, tol)\n",
    "        timeDykstraTSE, povmDykstraTSE, itersDykstraTSE = machine.dykstra_two_step_approximation(povmInput, tol)\n",
    "        data['povmCBA'][k] = np.linalg.norm(povmCBA-povmExact)\n",
    "        data['timeCBA'][k] = timeCBA\n",
    "        data['povmDykstraCBA'][k] = np.linalg.norm(povmDykstraCBA-povmExact)\n",
    "        data['timeDykstraCBA'][k] = timeDykstraCBA\n",
    "        data['itersDykstraCBA'][k] = itersDykstraCBA\n",
    "        data['povmTSE'][k] = np.linalg.norm(povmTSE-povmExact)\n",
    "        data['timeTSE'][k] = timeTSE\n",
    "        data['povmDykstraTSE'][k] = np.linalg.norm(povmDykstraTSE-povmExact)\n",
    "        data['timeDykstraTSE'][k] = timeDykstraTSE\n",
    "        data['itersDykstraTSE'][k] = itersDykstraTSE\n",
    "\n",
    "    return data "
   ]
  },
  {
   "cell_type": "code",
   "execution_count": null,
   "metadata": {},
   "outputs": [],
   "source": [
    "def generate_samples_qubits(data_sdp, qubits_list, iters, tol, reps):\n",
    "    \"\"\"\n",
    "    Generate samples for quantum operations with varying qubit numbers.\n",
    "\n",
    "    Args:\n",
    "    - data_sdp (dict): Dictionary containing SDP data.\n",
    "    - qubits_list (list): List of qubit numbers for quantum operations.\n",
    "    - iters (int): Number of iterations for iterative algorithms.\n",
    "    - tol (float): Tolerance level for convergence criteria.\n",
    "    - reps (int): Number of repetitions for sampling.\n",
    "\n",
    "    Returns:\n",
    "    - data_qubits (dict): Dictionary containing generated data for each qubit configuration.\n",
    "\n",
    "    This function iterates over a list of qubit numbers, generates data for each qubit configuration,\n",
    "    and stores the results in a dictionary. It prints the progress as it runs for each qubit configuration.\n",
    "    \"\"\"\n",
    "    data_qubits = {}\n",
    "    for qubits in qubits_list: \n",
    "        print(f\"Running for {qubits} qubits... \")\n",
    "        data = {'povmCBA': [0 for _ in range(reps)], 'timeCBA':np.zeros((reps)), 'povmDykstraCBA': [0 for _ in range(reps)],'timeDykstraCBA': np.zeros((reps)),\n",
    "                    'itersDykstraCBA': np.zeros((reps)),  'povmTSE':[0 for _ in range(reps)],'timeTSE': np.zeros((reps)), 'povmDykstraTSE': [0 for _ in range(reps)], \n",
    "                    'timeDykstraTSE':np.zeros((reps)), 'itersDykstraTSE':np.zeros((reps))} \n",
    "        data = generate_samples(data_sdp, qubits, iters, tol, reps, data)\n",
    "        data_qubits[f'data_{qubits}qubits'] = data \n",
    "\n",
    "    return data_qubits  "
   ]
  },
  {
   "cell_type": "code",
   "execution_count": null,
   "metadata": {},
   "outputs": [],
   "source": [
    "reps = 100\n",
    "iters = 100\n",
    "tol = 1e-7\n",
    "max_qubits = 7\n",
    "qubits_list = [x for x in range(3, max_qubits)]\n",
    "\n",
    "data_qubits = generate_samples_qubits(data_sdp, qubits_list, iters, tol, reps)"
   ]
  },
  {
   "cell_type": "code",
   "execution_count": null,
   "metadata": {},
   "outputs": [],
   "source": [
    "import pickle\n",
    "\n",
    "# Save dictionary to a file\n",
    "with open('dataApproxPOVM_p1e1.pkl', 'wb') as pickle_file:\n",
    "    pickle.dump(data_qubits, pickle_file)\n"
   ]
  }
 ],
 "metadata": {
  "language_info": {
   "name": "python"
  }
 },
 "nbformat": 4,
 "nbformat_minor": 2
}
