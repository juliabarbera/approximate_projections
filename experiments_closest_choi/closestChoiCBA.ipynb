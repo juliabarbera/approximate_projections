{
 "cells": [
  {
   "cell_type": "code",
   "execution_count": null,
   "metadata": {},
   "outputs": [],
   "source": [
    "import numpy as np \n",
    "import qutip as qt\n",
    "from projections_CPTP import initialization, exactSDP, cholesky_based_approximation, dykstra_cholesky_based_approximation, dykstra_identity, HIP, two_stage_solution"
   ]
  },
  {
   "cell_type": "markdown",
   "metadata": {},
   "source": [
    "## Data\n"
   ]
  },
  {
   "cell_type": "code",
   "execution_count": null,
   "metadata": {},
   "outputs": [],
   "source": [
    "import pickle\n",
    "\n",
    "# Load exact data SDP \n",
    "with open('data/dataExactChoi_p1e3.pkl', 'rb') as pickle_file:\n",
    "    data_sdp = pickle.load(pickle_file)"
   ]
  },
  {
   "cell_type": "code",
   "execution_count": null,
   "metadata": {},
   "outputs": [],
   "source": [
    "def generate_samples(data_sdp, qubits, iters, tol, reps, data):\n",
    "    \"\"\"\n",
    "    Generate samples for quantum operations based on provided data and parameters.\n",
    "\n",
    "    Args:\n",
    "    - data_sdp (dict): Dictionary containing SDP data.\n",
    "    - qubits (int): Number of qubits for the quantum operation.\n",
    "    - iters (int): Number of iterations for iterative algorithms.\n",
    "    - tol (float): Tolerance level for convergence criteria.\n",
    "    - reps (int): Number of repetitions for sampling.\n",
    "    - data (dict): Dictionary to store generated data.\n",
    "\n",
    "    Returns:\n",
    "    - data (dict): Dictionary containing generated data.\n",
    "\n",
    "    This function iterates over the specified number of repetitions and performs quantum operations\n",
    "    based on the provided data and parameters. It calculates distances and times for each operation\n",
    "    compared to exact values and stores them in the data dictionary.\n",
    "    \"\"\"\n",
    "\n",
    "    for k in range(reps):\n",
    "        # Extract input and exact data for the current repetition\n",
    "        rhoInput = np.array(data_sdp[f\"data_{qubits}qubits\"]['rhoInput'][k])\n",
    "        rhoExact = np.array(data_sdp[f\"data_{qubits}qubits\"]['rhoOutSDP'][k])\n",
    "        \n",
    "        # Perform quantum operations and measure time taken\n",
    "        rhoCBA, timeCBA = cholesky_based_approximation(rhoInput, pos=False)\n",
    "        rhoTSS, timeTSS = two_stage_solution(rhoInput, pos=False)\n",
    "        rhoDykstraCBA, timeDykstraCBA, itDykstraCBA = dykstra_cholesky_based_approximation(rhoInput, iters, tol)\n",
    "        rhoHIP, timeHIP = HIP(rhoInput, Id=True)\n",
    "        rhoDykstraId, timeDykstraId, itDykstraId = dykstra_identity(rhoInput, iters, tol)\n",
    "        \n",
    "        # Calculate distances between results and exact values and store in data dictionary\n",
    "        data['distanceCBA'][k] = np.linalg.norm(rhoCBA - rhoExact, \"fro\")\n",
    "        data['timeCBA'][k] = timeCBA\n",
    "        data['distanceTSS'][k] = np.linalg.norm(rhoTSS - rhoExact, \"fro\")\n",
    "        data['timeTSS'][k] = timeTSS\n",
    "        data['distanceDykstraCBA'][k] = np.linalg.norm(rhoDykstraCBA - rhoExact, \"fro\")\n",
    "        data['timeDykstraCBA'][k] = timeDykstraCBA\n",
    "        data['itersDykstraCBA'][k] = itDykstraCBA\n",
    "        data['distanceHIP'][k] = np.linalg.norm(rhoHIP - rhoExact, \"fro\")\n",
    "        data['timeHIP'][k] = timeHIP\n",
    "        data['distanceDykstraId'][k] = np.linalg.norm(rhoDykstraId - rhoExact, \"fro\")\n",
    "        data['timeDykstraId'][k] = timeDykstraId\n",
    "        data['itersDykstraId'][k] = itDykstraId\n",
    "\n",
    "    return data\n"
   ]
  },
  {
   "cell_type": "code",
   "execution_count": null,
   "metadata": {},
   "outputs": [],
   "source": [
    "def generate_samples_qubits(data_sdp, qubits_list, iters, tol, reps):\n",
    "    \"\"\"\n",
    "    Generate samples for quantum operations with varying qubit numbers.\n",
    "\n",
    "    Args:\n",
    "    - data_sdp (dict): Dictionary containing SDP data.\n",
    "    - qubits_list (list): List of qubit numbers for quantum operations.\n",
    "    - iters (int): Number of iterations for iterative algorithms.\n",
    "    - tol (float): Tolerance level for convergence criteria.\n",
    "    - reps (int): Number of repetitions for sampling.\n",
    "\n",
    "    Returns:\n",
    "    - data_qubits (dict): Dictionary containing generated data for each qubit configuration.\n",
    "\n",
    "    This function iterates over a list of qubit numbers, generates data for each qubit configuration,\n",
    "    and stores the results in a dictionary. It prints the progress as it runs for each qubit configuration.\n",
    "    \"\"\"\n",
    "\n",
    "    data_qubits = {}\n",
    "    for qubits in qubits_list:\n",
    "        print(f\"Running for {qubits} qubits... \")\n",
    "        # Initialize data dictionary for the current qubit configuration\n",
    "        data = {'distanceCBA': np.zeros((reps)), 'timeCBA': np.zeros((reps)),\n",
    "                'distanceTSS': np.zeros((reps)), 'timeTSS': np.zeros((reps)),\n",
    "                'distanceDykstraCBA': np.zeros((reps)), 'timeDykstraCBA': np.zeros((reps)),\n",
    "                'itersDykstraCBA': np.zeros((reps)), 'distanceHIP': np.zeros((reps)),\n",
    "                'timeHIP': np.zeros((reps)), 'distanceDykstraId': np.zeros((reps)),\n",
    "                'timeDykstraId': np.zeros((reps)), 'itersDykstraId': np.zeros((reps))}\n",
    "        # Generate samples for the current qubit configuration and update data dictionary\n",
    "        data = generate_samples(data_sdp, qubits, iters, tol, reps, data)\n",
    "        data_qubits[f'data_{qubits}qubits'] = data\n",
    "\n",
    "    return data_qubits\n"
   ]
  },
  {
   "cell_type": "code",
   "execution_count": null,
   "metadata": {},
   "outputs": [],
   "source": [
    "iters = 100\n",
    "tol = 1e-7\n",
    "reps = 100\n",
    "qubits_list = [2, 4, 6, 8]\n",
    "data_qubits = generate_samples_qubits(data_sdp, qubits_list, iters, tol, reps)"
   ]
  },
  {
   "cell_type": "code",
   "execution_count": null,
   "metadata": {},
   "outputs": [],
   "source": [
    "import pickle\n",
    "\n",
    "# Save dictionary to a file\n",
    "with open('data/dataChoiCholesky_p1e3.pkl', 'wb') as pickle_file:\n",
    "    pickle.dump(data_qubits, pickle_file)\n"
   ]
  }
 ],
 "metadata": {
  "language_info": {
   "name": "python"
  }
 },
 "nbformat": 4,
 "nbformat_minor": 2
}
